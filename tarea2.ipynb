{
 "cells": [
  {
   "cell_type": "markdown",
   "metadata": {},
   "source": [
    "# INF-483 Text Mining: Tarea 2"
   ]
  },
  {
   "cell_type": "markdown",
   "metadata": {},
   "source": [
    "Juan Pablo Muñoz, 4 de diciembre del 2018"
   ]
  },
  {
   "cell_type": "markdown",
   "metadata": {},
   "source": [
    "En esta tarea se debe diseñar e implementar clasificadores de veracidad de tweets en base a sus árboles de propagación y etiqutas. Las arquitectas de los clasificadores corresponden a redes recurrentes del tipo LSTM y GRU. El input de las redes es la secuencia cronológica de retweets según lo indica el árbol de propagación, y en específico, se debe determinar la veracidad del tweet originario o raíz del árbol."
   ]
  },
  {
   "cell_type": "markdown",
   "metadata": {},
   "source": [
    "## Cargar dataset"
   ]
  },
  {
   "cell_type": "code",
   "execution_count": 90,
   "metadata": {},
   "outputs": [],
   "source": [
    "import os\n",
    "import pickle\n",
    "import json\n",
    "import re\n",
    "from string import punctuation\n",
    "import nltk\n",
    "from nltk.tokenize import RegexpTokenizer\n",
    "import collections\n",
    "from gensim.models import Word2Vec\n",
    "import numpy as np\n",
    "from numpy.linalg import norm\n",
    "from sklearn.preprocessing import LabelEncoder\n",
    "from sklearn.preprocessing import OneHotEncoder\n",
    "from sklearn.model_selection import train_test_split, StratifiedKFold\n",
    "from keras.models import Sequential\n",
    "from keras.layers import Dense, Dropout, Activation, LSTM, GRU\n",
    "from sklearn.metrics import f1_score, confusion_matrix\n",
    "import pandas as pd\n",
    "import matplotlib.pyplot as plt\n",
    "import seaborn as sns\n",
    "import collections"
   ]
  },
  {
   "cell_type": "code",
   "execution_count": 2,
   "metadata": {},
   "outputs": [],
   "source": [
    "post_dir = 'post'\n",
    "\n",
    "# cargar todos los json del directorio 'post' y guardarlos en un diccionario pickleable\n",
    "if not os.path.isfile('posts_dict.pickle'):\n",
    "    posts_dict = {}\n",
    "    for file in os.listdir(post_dir):\n",
    "        if file.endswith('.json'):\n",
    "            with open(os.path.join(post_dir,file), 'r') as json_file:\n",
    "                data = json.load(json_file)\n",
    "                posts_dict[data['id_str']] = data\n",
    "    with open('posts_dict.pickle', 'wb') as f:\n",
    "        pickle.dump(posts_dict, f)\n",
    "else:\n",
    "    with open('posts_dict.pickle', 'rb') as f:\n",
    "        posts_dict = pickle.load(f)\n",
    "  "
   ]
  },
  {
   "cell_type": "code",
   "execution_count": 3,
   "metadata": {},
   "outputs": [
    {
     "data": {
      "text/plain": [
       "{'id': 766808183696351233,\n",
       " 'id_str': '766808183696351233',\n",
       " 'urls': [],\n",
       " 'user': {'geo_enabled': True,\n",
       "  'url': 'https://t.co/6UFINkGuS3',\n",
       "  'favourites_count': 905016,\n",
       "  'profile_sidebar_border_color': 'FFFFFF',\n",
       "  'name': 'Adam',\n",
       "  'profile_image_url_https': 'https://pbs.twimg.com/profile_images/1019279174303920129/R2_FEP0S_normal.jpg',\n",
       "  'created_at': 'Wed Sep 14 20:14:50 +0000 2011',\n",
       "  'screen_name': 'Khanoisseur',\n",
       "  'followers_count': 169183,\n",
       "  'listed_count': 3066,\n",
       "  'description': 'Welcome to the only 100% independent, fair + accurate news analysis feed *Turn notifications on* Podcast coming: https://t.co/XCAMicpWLM',\n",
       "  'id_str': '373564351',\n",
       "  'lang': 'en',\n",
       "  'statuses_count': 37547,\n",
       "  'profile_sidebar_fill_color': 'E6F6F9',\n",
       "  'location': 'United States',\n",
       "  'profile_background_image_url': 'http://abs.twimg.com/images/themes/theme17/bg.gif',\n",
       "  'profile_text_color': '333333',\n",
       "  'profile_banner_url': 'https://pbs.twimg.com/profile_banners/373564351/1534978477',\n",
       "  'profile_background_color': 'DBE9ED',\n",
       "  'id': 373564351,\n",
       "  'friends_count': 9994,\n",
       "  'profile_image_url': 'http://pbs.twimg.com/profile_images/1019279174303920129/R2_FEP0S_normal.jpg',\n",
       "  'profile_background_image_url_https': 'https://abs.twimg.com/images/themes/theme17/bg.gif',\n",
       "  'profile_link_color': 'E81C4F'},\n",
       " 'user_mentions': [{'id': 69009254,\n",
       "   'screen_name': 'Vitico46',\n",
       "   'name': 'Victor Mejia',\n",
       "   'id_str': '69009254'}],\n",
       " 'retweet_count': 404,\n",
       " 'in_reply_to_screen_name': 'Vitico46',\n",
       " 'created_at': 'Sat Aug 20 01:24:52 +0000 2016',\n",
       " 'in_reply_to_status_id': 766771140933148673,\n",
       " 'in_reply_to_user_id': 69009254,\n",
       " 'text': '\"Laziness is a trait in blacks\"-Trump, according to former president of Trump Plaza Hotel and Casino @Vitico46 https://t.co/H30xIuslBh',\n",
       " 'hashtags': [],\n",
       " 'lang': 'en',\n",
       " 'place': {'id': '5a110d312052166f',\n",
       "  'full_name': 'San Francisco, CA',\n",
       "  'url': 'https://api.twitter.com/1.1/geo/id/5a110d312052166f.json',\n",
       "  'attributes': {},\n",
       "  'country_code': 'US',\n",
       "  'country': 'Estados Unidos',\n",
       "  'name': 'San Francisco',\n",
       "  'contained_within': [],\n",
       "  'place_type': 'city',\n",
       "  'bounding_box': {'type': 'Polygon',\n",
       "   'coordinates': [[[-122.514926, 37.708075],\n",
       "     [-122.357031, 37.708075],\n",
       "     [-122.357031, 37.833238],\n",
       "     [-122.514926, 37.833238]]]}},\n",
       " 'media': [{'id': 766808177249693697,\n",
       "   'display_url': 'pic.twitter.com/H30xIuslBh',\n",
       "   'expanded_url': 'https://twitter.com/Khanoisseur/status/766808183696351233/photo/1',\n",
       "   'url': 'https://t.co/H30xIuslBh',\n",
       "   'media_url': 'http://pbs.twimg.com/media/CqQ_-XfVMAEV9ut.jpg',\n",
       "   'type': 'photo',\n",
       "   'media_url_https': 'https://pbs.twimg.com/media/CqQ_-XfVMAEV9ut.jpg',\n",
       "   'sizes': {'large': {'w': 814, 'resize': 'fit', 'h': 513},\n",
       "    'small': {'w': 680, 'resize': 'fit', 'h': 429},\n",
       "    'medium': {'w': 814, 'resize': 'fit', 'h': 513},\n",
       "    'thumb': {'w': 150, 'resize': 'crop', 'h': 150}}}],\n",
       " 'favorite_count': 321,\n",
       " 'source': '<a href=\"http://twitter.com/download/iphone\" rel=\"nofollow\">Twitter for iPhone</a>'}"
      ]
     },
     "execution_count": 3,
     "metadata": {},
     "output_type": "execute_result"
    }
   ],
   "source": [
    "posts_dict['766808183696351233']"
   ]
  },
  {
   "cell_type": "code",
   "execution_count": 4,
   "metadata": {},
   "outputs": [
    {
     "data": {
      "text/plain": [
       "21741"
      ]
     },
     "execution_count": 4,
     "metadata": {},
     "output_type": "execute_result"
    }
   ],
   "source": [
    "len(posts_dict)"
   ]
  },
  {
   "cell_type": "code",
   "execution_count": 5,
   "metadata": {},
   "outputs": [],
   "source": [
    "tree_dir = 'tree'\n",
    "\n",
    "# cargar todos los txt del directorio 'tree' y guardarlos en un diccionario pickleable\n",
    "if not os.path.isfile('trees_dict.pickle'):\n",
    "    trees_dict = {}\n",
    "    label_dict_translation = {}\n",
    "    for file in os.listdir(tree_dir):\n",
    "        if file.endswith('.txt'):\n",
    "            \n",
    "            with open(os.path.join(tree_dir,file), 'r') as txt_file:\n",
    "                try:\n",
    "                    lineas = [linea.strip() for linea in txt_file]\n",
    "                    # Obtener información del tweet raíz, contenida en alguna línea del archivo (no siempre la primera)\n",
    "                    patron_nodo_raiz = re.compile(\"\\['ROOT', 'ROOT', '0\\.0'\\]->\\['(?P<root_uid>\\d+)', '(?P<root_tweetid>\\d+)', '(?P<root_timedelay>[-\\d+.]+)'\\]\")\n",
    "                    #print(lineas[0])\n",
    "                    match_nodo_raiz = patron_nodo_raiz.search([linea_raiz for linea_raiz in lineas if 'ROOT' in linea_raiz][0]).groupdict()\n",
    "                    trees_dict[match_nodo_raiz['root_tweetid']] = [\n",
    "                        {\n",
    "                            'uid': int(match_nodo_raiz['root_uid']),\n",
    "                            'tweetid': int(match_nodo_raiz['root_tweetid']),\n",
    "                            'timedelay': float(match_nodo_raiz['root_timedelay']),\n",
    "                            'timedelay_delta': 0.0,\n",
    "                            'tree_depth': 0,\n",
    "                        }\n",
    "                    ]\n",
    "                    # Asociar la id del tweet raíz con el nombre del archivo txt. Éstos no siempre coinciden.\n",
    "                    # La asociación es necesaria para acceder a la etiqueta de los tweets raíces\n",
    "                    label_dict_translation[match_nodo_raiz['root_tweetid']] = file.strip('.txt')\n",
    "                    depths = {match_nodo_raiz['root_uid']: 0}\n",
    "\n",
    "                    # Obtener información del resto del árbol de propagación\n",
    "                    patron_nodos = re.compile(\"\\['(?P<parent_uid>\\d+)', '(?P<parent_tweetid>\\d+)', '(?P<parent_timedelay>[-\\d+.]+)'\\]->\\['(?P<child_uid>\\d+)', '(?P<child_tweetid>\\d+)', '(?P<child_timedelay>[-\\d+.]+)'\\]\")\n",
    "                    for linea in [l for l in lineas if 'ROOT' not in l]:\n",
    "                        #print(linea)\n",
    "                        match_nodos = patron_nodos.search(linea).groupdict()\n",
    "                        if float(match_nodos['child_timedelay']) < float(match_nodos['parent_timedelay']) or float(match_nodos['child_timedelay']) < trees_dict[match_nodo_raiz['root_tweetid']][-1]['timedelay']:\n",
    "                            # El nodo padre no puede haberse producido después que el hijo.\n",
    "                            # Tampoco se aceptan enlaces que rompan el orden cronológico\n",
    "                            # (el nodo hijo que se intenta agregar debe ser posterior al último hijo agregado).\n",
    "                            # Se elige ignorar los enlaces que no cumplan estas condiciones\n",
    "                            continue\n",
    "\n",
    "                        depths[match_nodos['child_uid']] = 1+depths[match_nodos['parent_uid']]\n",
    "                        trees_dict[match_nodo_raiz['root_tweetid']].append(\n",
    "                            {\n",
    "                                'uid': int(match_nodos['child_uid']),\n",
    "                                'tweetid': int(match_nodos['child_tweetid']),\n",
    "                                'timedelay': float(match_nodos['child_timedelay']),\n",
    "                                'timedelay_delta': float(match_nodos['child_timedelay'])-float(match_nodos['parent_timedelay']),\n",
    "                                'tree_depth': depths[match_nodos['child_uid']],\n",
    "                            }\n",
    "                        )\n",
    "\n",
    "                except Exception as e:\n",
    "                    print(e)\n",
    "                    print('Archivo:', file)\n",
    "    with open('trees_dict.pickle', 'wb') as f:\n",
    "        pickle.dump(trees_dict, f)\n",
    "    with open('label_dict_translation.pickle', 'wb') as f:\n",
    "        pickle.dump(label_dict_translation, f)\n",
    "else:\n",
    "    with open('trees_dict.pickle', 'rb') as f:\n",
    "        trees_dict = pickle.load(f)\n",
    "    with open('label_dict_translation.pickle', 'rb') as f:\n",
    "        label_dict_translation = pickle.load(f)\n",
    "  "
   ]
  },
  {
   "cell_type": "markdown",
   "metadata": {},
   "source": [
    "Durante la lectura de los árboles de tweets se encontraron anormalidades en la estructura de los datos:\n",
    "\n",
    "i. En algunas relaciones padre->hijo, el padre tenía un mayor time delay que el hijo\n",
    "\n",
    "ii. El nodo raíz no siempre se encontraba en la primera línea\n",
    "\n",
    "iii. A veces, las relaciones padre->hijo se repetían a la inversa en un archivo: hijo->padre, provocando la inconsistencia mencionada en i.\n",
    "\n",
    "iv. En algunos de los casos descritos en ii., la ID del tweet raíz no coincide con su nombre de archivo"
   ]
  },
  {
   "cell_type": "code",
   "execution_count": 6,
   "metadata": {},
   "outputs": [],
   "source": [
    "label_dir = 'label.txt'\n",
    "if not os.path.isfile('label_dict.pickle'):\n",
    "    label_dict = {}\n",
    "    with open(label_dir, 'r') as txt_file:\n",
    "        lineas = [linea.strip() for linea in txt_file]\n",
    "        for linea in lineas:\n",
    "            #print(linea)\n",
    "            etiqueta, arbol_id = linea.split(':')\n",
    "            label_dict[arbol_id] = etiqueta\n",
    "            \n",
    "    with open('label_dict.pickle', 'wb') as f:\n",
    "        pickle.dump(label_dict, f)\n",
    "        \n",
    "else:\n",
    "    with open('label_dict.pickle', 'rb') as f:\n",
    "        label_dict = pickle.load(f)"
   ]
  },
  {
   "cell_type": "markdown",
   "metadata": {},
   "source": [
    "## Preprocesado"
   ]
  },
  {
   "cell_type": "markdown",
   "metadata": {},
   "source": [
    "#### Generar AWE de los tweets"
   ]
  },
  {
   "cell_type": "code",
   "execution_count": 8,
   "metadata": {},
   "outputs": [],
   "source": [
    "# Primero se hace un corpus de todos los tweets\n",
    "\n",
    "corpus_tweets = {tweet['id_str']: tweet['text'] for tweet in posts_dict.values()}"
   ]
  },
  {
   "cell_type": "code",
   "execution_count": 9,
   "metadata": {},
   "outputs": [
    {
     "name": "stdout",
     "output_type": "stream",
     "text": [
      "Tamaño vocabulario corpus_tweets antes: 23467\n",
      "Tamaño vocabulario corpus_tweets después: 6739\n"
     ]
    }
   ],
   "source": [
    "# Luego se normaliza\n",
    "\n",
    "tokenizer = RegexpTokenizer(r'[a-zA-Z]+')\n",
    "stop_words = nltk.corpus.stopwords.words('english')\n",
    "remove_terms = punctuation + '0123456789'\n",
    "\n",
    "min_word_length = 3\n",
    "min_word_freq = 3\n",
    "\n",
    "for id_str, text in corpus_tweets.items():\n",
    "    clean_tweet = [word.lower() for word in tokenizer.tokenize(re.sub(r\"http\\S+\", \"\", text)) if word.lower() not in remove_terms]\n",
    "    clean_tweet = [tok_sent for tok_sent in clean_tweet if tok_sent not in stop_words]\n",
    "    clean_tweet = [tok_sent for tok_sent in clean_tweet if len(' '.join(tok_sent).split()) >= min_word_length]\n",
    "    corpus_tweets[id_str] = clean_tweet\n",
    "\n",
    "# Obtener frecuencias de palabras pre-limpieza\n",
    "freq_tweets_pre = collections.Counter([token for id_str, text in corpus_tweets.items() for token in text])   \n",
    "print('Tamaño vocabulario corpus_tweets antes:', len(freq_tweets_pre))\n",
    "\n",
    "# última pasada para eliminar palabras poco frecuentes\n",
    "for id_str, text in corpus_tweets.items():\n",
    "    clean_tweet = [token for token in text if freq_tweets_pre[token] >= min_word_freq]\n",
    "    corpus_tweets[id_str] = clean_tweet   \n",
    "\n",
    "freq_tweets_post = collections.Counter([token for id_str, text in corpus_tweets.items() for token in text])   \n",
    "print('Tamaño vocabulario corpus_tweets después:', len(freq_tweets_post))"
   ]
  },
  {
   "cell_type": "code",
   "execution_count": 10,
   "metadata": {},
   "outputs": [
    {
     "data": {
      "text/plain": [
       "(1236216, 1399620)"
      ]
     },
     "execution_count": 10,
     "metadata": {},
     "output_type": "execute_result"
    }
   ],
   "source": [
    "# Generar embeddings word2vec skip-gram\n",
    "\n",
    "embedding_size = 64\n",
    "window_size = 7\n",
    "\n",
    "model_tweets = Word2Vec(corpus_tweets.values(), size=embedding_size, window=window_size, workers=2, sg=1, compute_loss=True)\n",
    "model_tweets.train(corpus_tweets.values(), total_examples=len(corpus_tweets.values()), epochs=10)"
   ]
  },
  {
   "cell_type": "markdown",
   "metadata": {},
   "source": [
    "Chequear correctitud de creación del modelo"
   ]
  },
  {
   "cell_type": "code",
   "execution_count": 11,
   "metadata": {},
   "outputs": [
    {
     "name": "stderr",
     "output_type": "stream",
     "text": [
      "c:\\program files\\python36\\lib\\site-packages\\gensim\\matutils.py:737: FutureWarning: Conversion of the second argument of issubdtype from `int` to `np.signedinteger` is deprecated. In future, it will be treated as `np.int32 == np.dtype(int).type`.\n",
      "  if np.issubdtype(vec.dtype, np.int):\n"
     ]
    },
    {
     "data": {
      "text/plain": [
       "[('donated', 0.7941363453865051),\n",
       " ('payers', 0.7240647077560425),\n",
       " ('wasting', 0.7204123139381409),\n",
       " ('spending', 0.7061898708343506),\n",
       " ('vets', 0.7005283832550049),\n",
       " ('conclusion', 0.698971152305603),\n",
       " ('agrees', 0.696421205997467),\n",
       " ('spent', 0.6943320035934448),\n",
       " ('spend', 0.6905722618103027),\n",
       " ('taxes', 0.6857808232307434)]"
      ]
     },
     "execution_count": 11,
     "metadata": {},
     "output_type": "execute_result"
    }
   ],
   "source": [
    "model_tweets.wv.most_similar(positive=['money'])"
   ]
  },
  {
   "cell_type": "code",
   "execution_count": 12,
   "metadata": {},
   "outputs": [
    {
     "data": {
      "text/plain": [
       "array([ 0.5520476 , -0.49677518,  0.01220519,  0.27367938,  0.03926715,\n",
       "       -0.3146453 ,  0.19809464,  0.16168739, -0.17226918, -0.38457203,\n",
       "        0.10427961, -0.51626974,  0.13904493, -0.16205429,  0.13863865,\n",
       "       -0.39576694, -0.29020646,  0.1543417 ,  0.29651445, -0.26312563,\n",
       "        0.11518683,  0.01285347, -0.1225697 , -0.20625125,  0.23845972,\n",
       "       -0.0485106 ,  0.3165818 ,  0.19405542,  0.00949448, -0.04236845,\n",
       "       -0.00972586,  0.4261847 , -0.14381531,  0.6464814 , -0.02069733,\n",
       "        0.20866413,  0.17726003,  0.07492452,  0.42224428, -0.31382027,\n",
       "       -0.36711487,  0.13322577,  0.21229213,  0.09101961,  0.22425745,\n",
       "       -0.3263243 ,  0.20743193,  0.18452732, -0.02807293,  0.39108932,\n",
       "       -0.02094839, -0.20371147,  0.08099119, -0.06867534,  0.2271966 ,\n",
       "       -0.16208294, -0.27656007,  0.13364634,  0.11449724, -0.05766862,\n",
       "       -0.16349524, -0.1156313 , -0.14829913,  0.07819797], dtype=float32)"
      ]
     },
     "execution_count": 12,
     "metadata": {},
     "output_type": "execute_result"
    }
   ],
   "source": [
    "model_tweets.wv['crisis']"
   ]
  },
  {
   "cell_type": "markdown",
   "metadata": {},
   "source": [
    "#### Obtener Averaged Word Embedding para tweets"
   ]
  },
  {
   "cell_type": "code",
   "execution_count": 13,
   "metadata": {},
   "outputs": [],
   "source": [
    "def awe(tweet, w2v):\n",
    "    d_post = [term for term in tweet if term in w2v.wv.vocab]\n",
    "    #if len(list(set(doc) - set(d_post))) != 0: print('Palabras fuera del vocabulario:', list(set(doc) - set(d_post)))\n",
    "    # si ninguna palabra de la consulta estaba en el vocabulario, retornar vector nulo\n",
    "    if len(d_post) == 0: return np.zeros(len(w2v.wv[list(w2v.wv.vocab.keys())[0]]))\n",
    "    # vector de cada término dividido en su módulo\n",
    "    term_vectors = np.array([w2v.wv[term]/norm(w2v.wv[term]) for term in d_post])\n",
    "    # se suman en un solo vector\n",
    "    v = sum(term_vectors)\n",
    "    # y se divide por la cantidad de palabras en la consulta (post eliminación de aquellas ausentes en el vocabulario)\n",
    "    v = v/len(d_post)\n",
    "    return v"
   ]
  },
  {
   "cell_type": "markdown",
   "metadata": {},
   "source": [
    "Chequear correctitud del constructor de AWEs"
   ]
  },
  {
   "cell_type": "code",
   "execution_count": 14,
   "metadata": {},
   "outputs": [
    {
     "data": {
      "text/plain": [
       "array([ 0.08909552, -0.13290069, -0.11940827,  0.00064838, -0.01089293,\n",
       "        0.02121803,  0.03659401,  0.07142118,  0.01692844, -0.11929207,\n",
       "        0.06478176, -0.062168  ,  0.13129775, -0.04860223,  0.0387613 ,\n",
       "       -0.09640284,  0.08455028, -0.11593524,  0.06137523,  0.01033543,\n",
       "       -0.16913886, -0.09437016, -0.11564402,  0.04569428,  0.02699727,\n",
       "       -0.14112973, -0.08842804,  0.0757557 ,  0.06100757,  0.06127399,\n",
       "       -0.01095717,  0.04677238, -0.11013331,  0.03836638,  0.03736732,\n",
       "        0.02773708,  0.16451725, -0.22038138,  0.10794064,  0.10479577,\n",
       "       -0.10772649,  0.02831705,  0.04131611,  0.08466413, -0.19779119,\n",
       "       -0.0082314 ,  0.08440441,  0.2659394 , -0.04554609,  0.12320391,\n",
       "        0.06694798,  0.03107649,  0.04805129,  0.13545509,  0.11274598,\n",
       "       -0.05913721,  0.02250089,  0.10497244,  0.08815767,  0.17004728,\n",
       "        0.00447999, -0.08284148,  0.08614092, -0.016386  ], dtype=float32)"
      ]
     },
     "execution_count": 14,
     "metadata": {},
     "output_type": "execute_result"
    }
   ],
   "source": [
    "awe(corpus_tweets['766808183696351233'], model_tweets)"
   ]
  },
  {
   "cell_type": "markdown",
   "metadata": {},
   "source": [
    "#### One-hot encoding de etiquetas de tweets"
   ]
  },
  {
   "cell_type": "code",
   "execution_count": 15,
   "metadata": {},
   "outputs": [
    {
     "name": "stderr",
     "output_type": "stream",
     "text": [
      "c:\\program files\\python36\\lib\\site-packages\\sklearn\\preprocessing\\_encoders.py:368: FutureWarning: The handling of integer data will change in version 0.22. Currently, the categories are determined based on the range [0, max(values)], while in the future they will be determined based on the unique values.\n",
      "If you want the future behaviour and silence this warning, you can specify \"categories='auto'\".\n",
      "In case you used a LabelEncoder before this OneHotEncoder to convert the categories to integers, then you can now use the OneHotEncoder directly.\n",
      "  warnings.warn(msg, FutureWarning)\n"
     ]
    }
   ],
   "source": [
    "labels = list(label_dict.values())\n",
    "labels = np.array(labels)\n",
    "int_label_encoder = LabelEncoder()\n",
    "int_label_encoder.fit(labels)\n",
    "label_dict = {k: int_label_encoder.transform([v]) for k, v in label_dict.items()}\n",
    "\n",
    "int_labels = list(label_dict.values())\n",
    "int_labels = np.array(int_labels)\n",
    "\n",
    "onehot_label_encoder = OneHotEncoder(sparse=False)\n",
    "onehot_label_encoder.fit(int_labels)\n",
    "label_dict = {k: onehot_label_encoder.transform([v])[0] for k, v in label_dict.items()}"
   ]
  },
  {
   "cell_type": "markdown",
   "metadata": {},
   "source": [
    "#### Transformador one-hot -> etiqueta"
   ]
  },
  {
   "cell_type": "code",
   "execution_count": 16,
   "metadata": {},
   "outputs": [
    {
     "data": {
      "text/plain": [
       "'false'"
      ]
     },
     "execution_count": 16,
     "metadata": {},
     "output_type": "execute_result"
    }
   ],
   "source": [
    "def inverse_transform(onehot_vector, onehot_encoder, label_encoder):\n",
    "    int_label = int(onehot_encoder.inverse_transform([onehot_vector])[0])\n",
    "    true_label = label_encoder.inverse_transform([int_label])[0]\n",
    "    return true_label\n",
    "    \n",
    "inverse_transform(label_dict['656955120626880512'], onehot_label_encoder, int_label_encoder)"
   ]
  },
  {
   "cell_type": "markdown",
   "metadata": {},
   "source": [
    "## Generar ejemplos de entrenamiento\n",
    "\n",
    "Para cada $tweet_i$ en un árbol de propagación, el input $x_i$ está definido como\n",
    "\n",
    "\\begin{align}\n",
    "x_i = concat(AWE(tweet_i), timeDelta(tweet_i), treeDepth(tweet_i))\n",
    "\\end{align}\n",
    "\n",
    "Donde $timeDelta(tweet_i)=timeDelay(tweet_i)-timeDelay(parentOf(tweet_i))$ y $treeDepth(tweet_i)$ es la profundidad de $tweet_i$ en el árbol de propagación."
   ]
  },
  {
   "cell_type": "code",
   "execution_count": 17,
   "metadata": {
    "scrolled": false
   },
   "outputs": [
    {
     "name": "stdout",
     "output_type": "stream",
     "text": [
      "tweet ID=524922729485848576 no encontrado en posts -> es retweet\n",
      "tweet ID=524931324763992064 no encontrado en posts -> es retweet\n",
      "tweet ID=524947674164760577 no encontrado en posts -> es retweet\n",
      "tweet ID=525019752507658240 no encontrado en posts -> es retweet\n",
      "tweet ID=525025279803424768 no encontrado en posts -> es retweet\n",
      "tweet ID=525058976376193024 no encontrado en posts -> es retweet\n",
      "tweet ID=544271284796784640 no encontrado en posts -> es retweet\n",
      "tweet ID=544289311504355328 no encontrado en posts -> es retweet\n",
      "tweet ID=544291804057960448 no encontrado en posts -> es retweet\n",
      "tweet ID=544319274072817664 no encontrado en posts -> es retweet\n",
      "tweet ID=553221600955621376 no encontrado en posts -> es retweet\n",
      "tweet ID=553543369604210689 no encontrado en posts -> es retweet\n",
      "tweet ID=604625816992002049 no encontrado en posts -> es retweet\n",
      "tweet ID=614054616154550273 no encontrado en posts -> es retweet\n",
      "tweet ID=614467824313106432 no encontrado en posts -> es retweet\n",
      "tweet ID=614494170590367744 no encontrado en posts -> es retweet\n",
      "tweet ID=614494460747997184 no encontrado en posts -> es retweet\n",
      "tweet ID=614604054552018944 no encontrado en posts -> es retweet\n",
      "tweet ID=614616994499788800 no encontrado en posts -> es retweet\n",
      "tweet ID=615346611955183616 no encontrado en posts -> es retweet\n",
      "tweet ID=618449248179191808 no encontrado en posts -> es retweet\n",
      "tweet ID=620835698514464768 no encontrado en posts -> es retweet\n",
      "tweet ID=620916279608651776 no encontrado en posts -> es retweet\n",
      "tweet ID=620971220301787136 no encontrado en posts -> es retweet\n",
      "tweet ID=623533663947517952 no encontrado en posts -> es retweet\n",
      "tweet ID=623818627054206977 no encontrado en posts -> es retweet\n",
      "tweet ID=626897206717624320 no encontrado en posts -> es retweet\n",
      "tweet ID=632377165477191680 no encontrado en posts -> es retweet\n",
      "tweet ID=640644123339431936 no encontrado en posts -> es retweet\n",
      "tweet ID=645362146415525888 no encontrado en posts -> es retweet\n",
      "tweet ID=651321040119963648 no encontrado en posts -> es retweet\n",
      "tweet ID=654371696195993600 no encontrado en posts -> es retweet\n",
      "tweet ID=656629493377990656 no encontrado en posts -> es retweet\n",
      "tweet ID=656955120626880512 no encontrado en posts -> es retweet\n",
      "tweet ID=658259426172891136 no encontrado en posts -> es retweet\n",
      "tweet ID=659462980476637184 no encontrado en posts -> es retweet\n",
      "tweet ID=665358434351509504 no encontrado en posts -> es retweet\n",
      "tweet ID=667379734343471104 no encontrado en posts -> es retweet\n",
      "tweet ID=669259395902152704 no encontrado en posts -> es retweet\n",
      "tweet ID=672539897899577344 no encontrado en posts -> es retweet\n",
      "tweet ID=672828403016429568 no encontrado en posts -> es retweet\n",
      "tweet ID=672902686380003328 no encontrado en posts -> es retweet\n",
      "tweet ID=672927317191229440 no encontrado en posts -> es retweet\n",
      "tweet ID=673346166822694914 no encontrado en posts -> es retweet\n",
      "tweet ID=707308274270539777 no encontrado en posts -> es retweet\n",
      "tweet ID=716092408920936448 no encontrado en posts -> es retweet\n",
      "tweet ID=716451800581279744 no encontrado en posts -> es retweet\n",
      "tweet ID=717081129627553792 no encontrado en posts -> es retweet\n",
      "tweet ID=724661834419048448 no encontrado en posts -> es retweet\n",
      "tweet ID=727854332188577792 no encontrado en posts -> es retweet\n",
      "tweet ID=730939370765754368 no encontrado en posts -> es retweet\n",
      "tweet ID=731166399389962242 no encontrado en posts -> es retweet\n",
      "tweet ID=741995157969592321 no encontrado en posts -> es retweet\n",
      "tweet ID=742055437932040193 no encontrado en posts -> es retweet\n",
      "tweet ID=743058135300988932 no encontrado en posts -> es retweet\n",
      "tweet ID=744390771869102080 no encontrado en posts -> es retweet\n",
      "tweet ID=742053606820438016 no encontrado en posts -> es retweet\n",
      "tweet ID=747275598347837440 no encontrado en posts -> es retweet\n",
      "tweet ID=748543642323783681 no encontrado en posts -> es retweet\n",
      "tweet ID=749039299677417472 no encontrado en posts -> es retweet\n",
      "tweet ID=758825535480864769 no encontrado en posts -> es retweet\n",
      "tweet ID=763428684850094080 no encontrado en posts -> es retweet\n",
      "tweet ID=763738618573623297 no encontrado en posts -> es retweet\n",
      "tweet ID=765887221736046592 no encontrado en posts -> es retweet\n",
      "tweet ID=777710439870455808 no encontrado en posts -> es retweet\n",
      "Total Retweets: 65\n",
      "Total Tweets no encontrados: 4494\n",
      "num_categorias=4, num_atributos=66, num_arboles=751, size_mayor_arbol=3051\n"
     ]
    }
   ],
   "source": [
    "num_retweets=0\n",
    "num_missing_tweets = 0\n",
    "\n",
    "X_sin_padding = []\n",
    "Y = []\n",
    "for tweet_id, arbol in trees_dict.items():\n",
    "    if tweet_id not in posts_dict:\n",
    "        num_retweets+=1\n",
    "        print('tweet ID='+tweet_id+' no encontrado en posts -> es retweet')\n",
    "        continue\n",
    "    else:\n",
    "        arbol_preparado = []\n",
    "        for nodo in arbol:\n",
    "            if str(nodo['tweetid']) not in corpus_tweets:\n",
    "                num_missing_tweets += 1\n",
    "                #print(str(nodo['tweetid'])+' no encontrado en corpus_tweets')\n",
    "                continue\n",
    "            awe_tweet = awe(corpus_tweets[str(nodo['tweetid'])], model_tweets)\n",
    "            timedelta_tweet = nodo['timedelay_delta']\n",
    "            treedepth_tweet = nodo['tree_depth']\n",
    "            nodo_preparado = np.concatenate((awe_tweet, [timedelta_tweet], [treedepth_tweet]))\n",
    "            arbol_preparado.append(nodo_preparado)\n",
    "        X_sin_padding.append(arbol_preparado)\n",
    "        Y.append(label_dict[label_dict_translation[tweet_id]])\n",
    "print('Total Retweets:', num_retweets)\n",
    "print('Total Tweets no encontrados:', num_missing_tweets)\n",
    "\n",
    "num_categorias = len(onehot_label_encoder.get_feature_names())\n",
    "num_atributos = embedding_size+2\n",
    "num_arboles = len(X_sin_padding)\n",
    "size_mayor_arbol = max([len(a) for a in X_sin_padding])\n",
    "\n",
    "\n",
    "print('num_categorias='+str(num_categorias)+', num_atributos='+str(num_atributos)+', num_arboles='+str(num_arboles)+', size_mayor_arbol='+str(size_mayor_arbol))"
   ]
  },
  {
   "cell_type": "markdown",
   "metadata": {},
   "source": [
    "#### Hacer padding de ceros para X"
   ]
  },
  {
   "cell_type": "code",
   "execution_count": 18,
   "metadata": {},
   "outputs": [
    {
     "name": "stdout",
     "output_type": "stream",
     "text": [
      "Truncando a un máximo de 500 nodos, 177 árbol(es) (23.6% del total) se vería(n) afectado(s)\n",
      "Truncando a un máximo de 1000 nodos, 59 árbol(es) (7.9% del total) se vería(n) afectado(s)\n",
      "Truncando a un máximo de 2000 nodos, 15 árbol(es) (2.0% del total) se vería(n) afectado(s)\n",
      "Truncando a un máximo de 3000 nodos, 1 árbol(es) (0.1% del total) se vería(n) afectado(s)\n"
     ]
    }
   ],
   "source": [
    "size_arboles = sorted([len(a) for a in X_sin_padding], reverse=True)\n",
    "for i in [500, 1000, 2000, 3000]:\n",
    "    cantidad = len([a for a in size_arboles if a > i])\n",
    "    porcentaje = round(100*cantidad/len(size_arboles), 1)\n",
    "    print('Truncando a un máximo de {} nodos, {} árbol(es) ({}% del total) se vería(n) afectado(s)'.format(i, cantidad, porcentaje))"
   ]
  },
  {
   "cell_type": "code",
   "execution_count": 19,
   "metadata": {},
   "outputs": [],
   "source": [
    "# Hacer padding para X y truncar\n",
    "\n",
    "max_tree_size = 500\n",
    "\n",
    "nodo_vacio = np.zeros(num_atributos).astype(np.float32)\n",
    "\n",
    "X = []\n",
    "for arbol in X_sin_padding:\n",
    "    if len(arbol) <= max_tree_size:\n",
    "        x_padded = np.concatenate((arbol, np.repeat([nodo_vacio], [max_tree_size-len(arbol)], axis=0)))\n",
    "        X.append(x_padded)\n",
    "    else:\n",
    "        x_padded = arbol[:max_tree_size]\n",
    "        X.append(x_padded)\n",
    "X = np.array(X)"
   ]
  },
  {
   "cell_type": "code",
   "execution_count": 20,
   "metadata": {},
   "outputs": [
    {
     "data": {
      "text/plain": [
       "(751, 500, 66)"
      ]
     },
     "execution_count": 20,
     "metadata": {},
     "output_type": "execute_result"
    }
   ],
   "source": [
    "X.shape"
   ]
  },
  {
   "cell_type": "markdown",
   "metadata": {},
   "source": [
    "## Definición y entrenamiento de modelos RNN"
   ]
  },
  {
   "cell_type": "markdown",
   "metadata": {},
   "source": [
    "#### Arquitectura LSTM"
   ]
  },
  {
   "cell_type": "code",
   "execution_count": 21,
   "metadata": {},
   "outputs": [],
   "source": [
    "def get_lstm():\n",
    "    model = Sequential()\n",
    "    model.add(LSTM(int(max_tree_size/1), input_shape=(max_tree_size, num_atributos)))\n",
    "    model.add(Dropout(0.30))\n",
    "    model.add(Dense(num_categorias))\n",
    "    model.add(Activation('softmax'))\n",
    "    model.compile(loss='categorical_crossentropy', optimizer='adam', metrics=['accuracy'])\n",
    "    return model"
   ]
  },
  {
   "cell_type": "code",
   "execution_count": 22,
   "metadata": {},
   "outputs": [
    {
     "name": "stdout",
     "output_type": "stream",
     "text": [
      "_________________________________________________________________\n",
      "Layer (type)                 Output Shape              Param #   \n",
      "=================================================================\n",
      "lstm_1 (LSTM)                (None, 500)               1134000   \n",
      "_________________________________________________________________\n",
      "dropout_1 (Dropout)          (None, 500)               0         \n",
      "_________________________________________________________________\n",
      "dense_1 (Dense)              (None, 4)                 2004      \n",
      "_________________________________________________________________\n",
      "activation_1 (Activation)    (None, 4)                 0         \n",
      "=================================================================\n",
      "Total params: 1,136,004\n",
      "Trainable params: 1,136,004\n",
      "Non-trainable params: 0\n",
      "_________________________________________________________________\n"
     ]
    }
   ],
   "source": [
    "get_lstm().summary()"
   ]
  },
  {
   "cell_type": "code",
   "execution_count": 72,
   "metadata": {},
   "outputs": [],
   "source": [
    "def get_f1_score(Y_true, Y_pred):\n",
    "    categorical_Y_true = [int(i) for i in onehot_label_encoder.inverse_transform(Y_true)]\n",
    "    categorical_Y_pred = [np.argmax(i) for i in Y_pred]\n",
    "    result = f1_score(categorical_Y_true, categorical_Y_pred, average=None)\n",
    "    return {int_label_encoder.inverse_transform([i])[0]: result[i] for i in range(len(result))}\n",
    "\n",
    "def get_f1_score_weighted(Y_true, Y_pred):\n",
    "    categorical_Y_true = [int(i) for i in onehot_label_encoder.inverse_transform(Y_true)]\n",
    "    categorical_Y_pred = [np.argmax(i) for i in Y_pred]\n",
    "    result = f1_score(categorical_Y_true, categorical_Y_pred, average='weighted')\n",
    "    return result\n",
    "    \n",
    "def get_confusion_matrix(Y_true, Y_pred):\n",
    "    categorical_Y_true = list(int_label_encoder.inverse_transform([int(i) for i in onehot_label_encoder.inverse_transform(Y_true)]))\n",
    "    categorical_Y_pred = list(int_label_encoder.inverse_transform([np.argmax(i) for i in Y_pred]))\n",
    "    result = confusion_matrix(categorical_Y_true, categorical_Y_pred, labels=list(int_label_encoder.classes_))\n",
    "    return result\n",
    "\n",
    "def entrenar_lstm():\n",
    "    loss = []\n",
    "    accuracy = []\n",
    "    f1_score = []\n",
    "    f1_score_weighted = []\n",
    "    confusion_matrix = []\n",
    "    k=5\n",
    "    categorical_Y = [int(i) for i in onehot_label_encoder.inverse_transform(Y)]\n",
    "    folds = StratifiedKFold(n_splits=k).split(X, categorical_Y)\n",
    "    \n",
    "    for i, (train_indexes, test_indexes) in enumerate(folds): \n",
    "        print('Fold:', str(i+1))\n",
    "        X_train = X[train_indexes]\n",
    "        Y_train = np.array(Y)[train_indexes]\n",
    "        X_test = X[test_indexes]\n",
    "        Y_test = np.array(Y)[test_indexes]\n",
    "        \n",
    "        modelo_lstm = get_lstm()\n",
    "        modelo_lstm.fit(X_train, Y_train, batch_size=32, epochs=1, validation_data=(X_test, Y_test))\n",
    "        \n",
    "        result = modelo_lstm.evaluate(X_test, Y_test)\n",
    "        loss.append(result[0])\n",
    "        print('Loss:', round(loss[-1], 3))\n",
    "        accuracy.append(result[1])\n",
    "        print('Accuracy:', round(accuracy[-1], 3))\n",
    "        #f1_score.append(get_f1_score(Y_test, modelo_lstm.predict(X_test)))\n",
    "        #print('F1-Score:', f1_score[-1])\n",
    "        f1_score_weighted.append(get_f1_score_weighted(Y_test, modelo_lstm.predict(X_test)))\n",
    "        print('F1-Score (weighted):', round(f1_score_weighted[-1], 3))\n",
    "        confusion_matrix.append(get_confusion_matrix(Y_test, modelo_lstm.predict(X_test)))\n",
    "        print('Confusion Matrix:\\n', confusion_matrix[-1])\n",
    "        \n",
    "    return {'loss': loss, 'accuracy': accuracy, 'f1_score_weighted':f1_score_weighted, 'confusion_matrix': confusion_matrix}\n",
    "    #return {'loss': loss, 'accuracy': accuracy, 'f1_score': f1_score, 'f1_score_micro':f1_scrore_micro, 'confusion_matrix': confusion_matrix}"
   ]
  },
  {
   "cell_type": "code",
   "execution_count": 34,
   "metadata": {
    "scrolled": true
   },
   "outputs": [
    {
     "name": "stdout",
     "output_type": "stream",
     "text": [
      "Fold: 1\n",
      "Train on 600 samples, validate on 151 samples\n",
      "Epoch 1/1\n",
      "600/600 [==============================] - 18s 31ms/step - loss: 1.4224 - acc: 0.3150 - val_loss: 1.4035 - val_acc: 0.3179\n",
      "151/151 [==============================] - 2s 12ms/step\n",
      "Loss: 1.403\n",
      "Accuracy: 0.318\n",
      "F1-Score (weighted): 0.255\n",
      "Confusion Matrix:\n",
      " [[ 1  5  1 29]\n",
      " [ 1 13  3 24]\n",
      " [ 0  3  4 31]\n",
      " [ 0  6  0 30]]\n",
      "Fold: 2\n",
      "Train on 600 samples, validate on 151 samples\n",
      "Epoch 1/1\n",
      "600/600 [==============================] - 19s 31ms/step - loss: 1.3419 - acc: 0.3383 - val_loss: 1.4040 - val_acc: 0.3046\n",
      "151/151 [==============================] - 2s 12ms/step\n",
      "Loss: 1.404\n",
      "Accuracy: 0.305\n"
     ]
    },
    {
     "name": "stderr",
     "output_type": "stream",
     "text": [
      "c:\\program files\\python36\\lib\\site-packages\\sklearn\\metrics\\classification.py:1143: UndefinedMetricWarning: F-score is ill-defined and being set to 0.0 in labels with no predicted samples.\n",
      "  'precision', 'predicted', average, warn_for)\n"
     ]
    },
    {
     "name": "stdout",
     "output_type": "stream",
     "text": [
      "F1-Score (weighted): 0.216\n",
      "Confusion Matrix:\n",
      " [[ 0  6  0 30]\n",
      " [ 0 16  0 25]\n",
      " [ 1  2  0 35]\n",
      " [ 1  5  0 30]]\n",
      "Fold: 3\n",
      "Train on 600 samples, validate on 151 samples\n",
      "Epoch 1/1\n",
      "600/600 [==============================] - 19s 31ms/step - loss: 1.3821 - acc: 0.3233 - val_loss: 1.3013 - val_acc: 0.3576\n",
      "151/151 [==============================] - 2s 12ms/step\n",
      "Loss: 1.301\n",
      "Accuracy: 0.358\n"
     ]
    },
    {
     "name": "stderr",
     "output_type": "stream",
     "text": [
      "c:\\program files\\python36\\lib\\site-packages\\sklearn\\metrics\\classification.py:1143: UndefinedMetricWarning: F-score is ill-defined and being set to 0.0 in labels with no predicted samples.\n",
      "  'precision', 'predicted', average, warn_for)\n"
     ]
    },
    {
     "name": "stdout",
     "output_type": "stream",
     "text": [
      "F1-Score (weighted): 0.289\n",
      "Confusion Matrix:\n",
      " [[ 0  1  4 31]\n",
      " [ 0 17  0 24]\n",
      " [ 0  2  4 32]\n",
      " [ 0  3  0 33]]\n",
      "Fold: 4\n",
      "Train on 601 samples, validate on 150 samples\n",
      "Epoch 1/1\n",
      "601/601 [==============================] - 19s 32ms/step - loss: 1.4298 - acc: 0.3178 - val_loss: 1.3192 - val_acc: 0.3667\n",
      "150/150 [==============================] - 2s 12ms/step\n",
      "Loss: 1.319\n",
      "Accuracy: 0.367\n",
      "F1-Score (weighted): 0.305\n",
      "Confusion Matrix:\n",
      " [[ 0  2  2 32]\n",
      " [ 2 15  1 23]\n",
      " [ 1  6  7 23]\n",
      " [ 1  2  0 33]]\n",
      "Fold: 5\n",
      "Train on 603 samples, validate on 148 samples\n",
      "Epoch 1/1\n",
      "603/603 [==============================] - 19s 32ms/step - loss: 1.3676 - acc: 0.3051 - val_loss: 1.3628 - val_acc: 0.3919\n",
      "148/148 [==============================] - 2s 12ms/step\n",
      "Loss: 1.363\n",
      "Accuracy: 0.392\n",
      "F1-Score (weighted): 0.3\n",
      "Confusion Matrix:\n",
      " [[ 0  5  0 31]\n",
      " [ 2 27  8  3]\n",
      " [ 1  9  1 26]\n",
      " [ 2  2  1 30]]\n"
     ]
    }
   ],
   "source": [
    "# batch_size = 84\n",
    "resultados_lstm_1 = entrenar_lstm()"
   ]
  },
  {
   "cell_type": "code",
   "execution_count": 73,
   "metadata": {
    "scrolled": true
   },
   "outputs": [
    {
     "name": "stdout",
     "output_type": "stream",
     "text": [
      "Fold: 1\n",
      "Train on 600 samples, validate on 151 samples\n",
      "Epoch 1/1\n",
      "600/600 [==============================] - 36s 61ms/step - loss: 1.3419 - acc: 0.3350 - val_loss: 1.3879 - val_acc: 0.3113\n",
      "151/151 [==============================] - 2s 13ms/step\n",
      "Loss: 1.388\n",
      "Accuracy: 0.311\n",
      "F1-Score (weighted): 0.231\n",
      "Confusion Matrix:\n",
      " [[ 1  5  0 30]\n",
      " [ 2 15  0 24]\n",
      " [ 0  6  1 31]\n",
      " [ 0  6  0 30]]\n",
      "Fold: 2\n",
      "Train on 600 samples, validate on 151 samples\n",
      "Epoch 1/1\n",
      "600/600 [==============================] - 37s 62ms/step - loss: 1.3438 - acc: 0.3317 - val_loss: 1.4148 - val_acc: 0.2848\n",
      "151/151 [==============================] - 2s 13ms/step\n",
      "Loss: 1.415\n",
      "Accuracy: 0.285\n",
      "F1-Score (weighted): 0.204\n",
      "Confusion Matrix:\n",
      " [[ 0  4  2 30]\n",
      " [ 1 11  4 25]\n",
      " [ 0  1  1 36]\n",
      " [ 0  3  2 31]]\n",
      "Fold: 3\n",
      "Train on 600 samples, validate on 151 samples\n",
      "Epoch 1/1\n",
      "600/600 [==============================] - 37s 62ms/step - loss: 1.3858 - acc: 0.3267 - val_loss: 1.3717 - val_acc: 0.2715\n",
      "151/151 [==============================] - 2s 13ms/step\n",
      "Loss: 1.372\n",
      "Accuracy: 0.272\n"
     ]
    },
    {
     "name": "stderr",
     "output_type": "stream",
     "text": [
      "c:\\program files\\python36\\lib\\site-packages\\sklearn\\metrics\\classification.py:1143: UndefinedMetricWarning: F-score is ill-defined and being set to 0.0 in labels with no predicted samples.\n",
      "  'precision', 'predicted', average, warn_for)\n"
     ]
    },
    {
     "name": "stdout",
     "output_type": "stream",
     "text": [
      "F1-Score (weighted): 0.159\n",
      "Confusion Matrix:\n",
      " [[ 0 35  1  0]\n",
      " [ 0 36  5  0]\n",
      " [ 0 33  5  0]\n",
      " [ 0 36  0  0]]\n",
      "Fold: 4\n",
      "Train on 601 samples, validate on 150 samples\n",
      "Epoch 1/1\n",
      "601/601 [==============================] - 38s 63ms/step - loss: 1.3726 - acc: 0.3178 - val_loss: 1.3272 - val_acc: 0.3467\n",
      "150/150 [==============================] - 2s 13ms/step\n",
      "Loss: 1.327\n",
      "Accuracy: 0.347\n",
      "F1-Score (weighted): 0.278\n",
      "Confusion Matrix:\n",
      " [[ 0  2  2 32]\n",
      " [ 4 13  0 24]\n",
      " [ 3  6  5 23]\n",
      " [ 1  1  0 34]]\n",
      "Fold: 5\n",
      "Train on 603 samples, validate on 148 samples\n",
      "Epoch 1/1\n",
      "603/603 [==============================] - 39s 65ms/step - loss: 1.4025 - acc: 0.3051 - val_loss: 1.3351 - val_acc: 0.3986\n",
      "148/148 [==============================] - 2s 13ms/step\n",
      "Loss: 1.335\n",
      "Accuracy: 0.399\n",
      "F1-Score (weighted): 0.304\n",
      "Confusion Matrix:\n",
      " [[ 0  5  0 31]\n",
      " [ 4 27  6  3]\n",
      " [ 1  9  1 26]\n",
      " [ 2  2  0 31]]\n"
     ]
    }
   ],
   "source": [
    "# batch_size = 32\n",
    "resultados_lstm_2 = entrenar_lstm()"
   ]
  },
  {
   "cell_type": "code",
   "execution_count": 79,
   "metadata": {},
   "outputs": [],
   "source": [
    "def print_confusion_matrix(confusion_matrix, class_names, figsize = (10,7), fontsize=14, cmap='summer', normalize=False):\n",
    "    \"\"\"Prints a confusion matrix, as returned by sklearn.metrics.confusion_matrix, as a heatmap.\n",
    "    \n",
    "    Arguments\n",
    "    ---------\n",
    "    confusion_matrix: numpy.ndarray\n",
    "        The numpy.ndarray object returned from a call to sklearn.metrics.confusion_matrix. \n",
    "        Similarly constructed ndarrays can also be used.\n",
    "    class_names: list\n",
    "        An ordered list of class names, in the order they index the given confusion matrix.\n",
    "    figsize: tuple\n",
    "        A 2-long tuple, the first value determining the horizontal size of the ouputted figure,\n",
    "        the second determining the vertical size. Defaults to (10,7).\n",
    "    fontsize: int\n",
    "        Font size for axes labels. Defaults to 14.\n",
    "        \n",
    "    Returns\n",
    "    -------\n",
    "    matplotlib.figure.Figure\n",
    "        The resulting confusion matrix figure\n",
    "    \"\"\"\n",
    "    if normalize:\n",
    "        confusion_matrix = confusion_matrix.astype('float') / confusion_matrix.sum(axis=1)[:, np.newaxis]\n",
    "        print(\"Normalized confusion matrix\")\n",
    "    else:\n",
    "        print('Confusion matrix, without normalization')\n",
    "    df_cm = pd.DataFrame(\n",
    "        confusion_matrix, index=class_names, columns=class_names, \n",
    "    )\n",
    "    fig = plt.figure(figsize=figsize)\n",
    "    try:\n",
    "        heatmap = sns.heatmap(df_cm, annot=True, fmt = '.2f' if normalize else 'd', cmap=cmap)\n",
    "    except ValueError:\n",
    "        raise ValueError(\"Confusion matrix values must be integers.\")\n",
    "    heatmap.yaxis.set_ticklabels(heatmap.yaxis.get_ticklabels(), rotation=0, ha='right', fontsize=fontsize)\n",
    "    heatmap.xaxis.set_ticklabels(heatmap.xaxis.get_ticklabels(), rotation=45, ha='right', fontsize=fontsize)\n",
    "    plt.ylabel('True label')\n",
    "    plt.xlabel('Predicted label')\n",
    "    return fig\n",
    "\n",
    "def resumen_resultado(resultado_dict, cmap='summer'):\n",
    "    mean_loss = round(np.mean(resultado_dict['loss']), 3)\n",
    "    mean_acc = round(np.mean(resultado_dict['accuracy']), 3)\n",
    "    mean_f1 = round(np.mean(resultado_dict['f1_score_weighted']), 3)\n",
    "    accumulated_confusion_matrix = sum(resultado_dict['confusion_matrix'])\n",
    "    mean_normalized_confusion_matrix = np.round(sum(resultado_dict['confusion_matrix'])/np.max(sum(resultado_dict['confusion_matrix'])), 3)\n",
    "    print('Resultado entrenamiento de la RNN con 5-Fold Validation\\n')\n",
    "    print('Loss promedio =', mean_loss)\n",
    "    print('Accuracy promedio =', mean_acc)\n",
    "    print('F1-Score (weighted) promedio =', mean_f1)\n",
    "    \n",
    "    print_confusion_matrix(accumulated_confusion_matrix, list(int_label_encoder.classes_), cmap=cmap, normalize=True).show()\n",
    "    "
   ]
  },
  {
   "cell_type": "code",
   "execution_count": 77,
   "metadata": {},
   "outputs": [
    {
     "name": "stdout",
     "output_type": "stream",
     "text": [
      "Resultado entrenamiento de la RNN con 5-Fold Validation\n",
      "\n",
      "Loss promedio = 1.358\n",
      "Accuracy promedio = 0.348\n",
      "F1-Score (weighted) promedio = 0.273\n",
      "Normalized confusion matrix\n"
     ]
    },
    {
     "name": "stderr",
     "output_type": "stream",
     "text": [
      "c:\\program files\\python36\\lib\\site-packages\\matplotlib\\figure.py:459: UserWarning: matplotlib is currently using a non-GUI backend, so cannot show the figure\n",
      "  \"matplotlib is currently using a non-GUI backend, \"\n"
     ]
    },
    {
     "data": {
      "image/png": "[encoded data removed]",
      "text/plain": [
       "<Figure size 720x504 with 2 Axes>"
      ]
     },
     "metadata": {},
     "output_type": "display_data"
    }
   ],
   "source": [
    "resumen_resultado(resultados_lstm_1)"
   ]
  },
  {
   "cell_type": "code",
   "execution_count": 78,
   "metadata": {},
   "outputs": [
    {
     "name": "stdout",
     "output_type": "stream",
     "text": [
      "Resultado entrenamiento de la RNN con 5-Fold Validation\n",
      "\n",
      "Loss promedio = 1.367\n",
      "Accuracy promedio = 0.323\n",
      "F1-Score (weighted) promedio = 0.235\n",
      "Normalized confusion matrix\n"
     ]
    },
    {
     "name": "stderr",
     "output_type": "stream",
     "text": [
      "c:\\program files\\python36\\lib\\site-packages\\matplotlib\\figure.py:459: UserWarning: matplotlib is currently using a non-GUI backend, so cannot show the figure\n",
      "  \"matplotlib is currently using a non-GUI backend, \"\n"
     ]
    },
    {
     "data": {
      "image/png": "[encoded data removed]",
      "text/plain": [
       "<Figure size 720x504 with 2 Axes>"
      ]
     },
     "metadata": {},
     "output_type": "display_data"
    }
   ],
   "source": [
    "resumen_resultado(resultados_lstm_2)"
   ]
  },
  {
   "cell_type": "markdown",
   "metadata": {},
   "source": [
    "El mejor resultado logrado con LSTMs se observa arriba. El accuracy promedio de los 5 folds llega al $34.8\\%$ cuando se entrena usando un ```batch_size=84```, superando levemente al $32.3\\%$ cuando se entrena usando un ```batch_size=32```. En ambos casos se observa una muy marcada tendencia a predecir ```unverified``` y ```non-rumor```, siendo la segunda opción más marcada en la segunda LSTM."
   ]
  },
  {
   "cell_type": "code",
   "execution_count": 91,
   "metadata": {},
   "outputs": [
    {
     "data": {
      "text/plain": [
       "Counter({'false': 205, 'true': 207, 'unverified': 201, 'non-rumor': 205})"
      ]
     },
     "execution_count": 91,
     "metadata": {},
     "output_type": "execute_result"
    }
   ],
   "source": [
    "labels = [inverse_transform(e, onehot_label_encoder, int_label_encoder) for e in label_dict.values()]\n",
    "labels_counter = collections.Counter(labels)\n",
    "labels_counter"
   ]
  },
  {
   "cell_type": "markdown",
   "metadata": {},
   "source": [
    "#### Arquitectura GRU"
   ]
  },
  {
   "cell_type": "code",
   "execution_count": 38,
   "metadata": {},
   "outputs": [],
   "source": [
    "def get_gru():\n",
    "    model = Sequential()\n",
    "    model.add(GRU(int(max_tree_size/1), input_shape=(max_tree_size, num_atributos)))\n",
    "    model.add(Dropout(0.30))\n",
    "    model.add(Dense(num_categorias))\n",
    "    model.add(Activation('softmax'))\n",
    "    model.compile(loss='categorical_crossentropy', optimizer='adam', metrics=['accuracy'])\n",
    "    return model"
   ]
  },
  {
   "cell_type": "code",
   "execution_count": 39,
   "metadata": {},
   "outputs": [
    {
     "name": "stdout",
     "output_type": "stream",
     "text": [
      "_________________________________________________________________\n",
      "Layer (type)                 Output Shape              Param #   \n",
      "=================================================================\n",
      "gru_1 (GRU)                  (None, 500)               850500    \n",
      "_________________________________________________________________\n",
      "dropout_27 (Dropout)         (None, 500)               0         \n",
      "_________________________________________________________________\n",
      "dense_27 (Dense)             (None, 4)                 2004      \n",
      "_________________________________________________________________\n",
      "activation_27 (Activation)   (None, 4)                 0         \n",
      "=================================================================\n",
      "Total params: 852,504\n",
      "Trainable params: 852,504\n",
      "Non-trainable params: 0\n",
      "_________________________________________________________________\n"
     ]
    }
   ],
   "source": [
    "get_gru().summary()"
   ]
  },
  {
   "cell_type": "code",
   "execution_count": 42,
   "metadata": {},
   "outputs": [],
   "source": [
    "def get_f1_score(Y_true, Y_pred):\n",
    "    categorical_Y_true = [int(i) for i in onehot_label_encoder.inverse_transform(Y_true)]\n",
    "    categorical_Y_pred = [np.argmax(i) for i in Y_pred]\n",
    "    result = f1_score(categorical_Y_true, categorical_Y_pred, average=None)\n",
    "    return {int_label_encoder.inverse_transform([i])[0]: result[i] for i in range(len(result))}\n",
    "\n",
    "def get_f1_score_weighted(Y_true, Y_pred):\n",
    "    categorical_Y_true = [int(i) for i in onehot_label_encoder.inverse_transform(Y_true)]\n",
    "    categorical_Y_pred = [np.argmax(i) for i in Y_pred]\n",
    "    result = f1_score(categorical_Y_true, categorical_Y_pred, average='weighted')\n",
    "    return result\n",
    "    \n",
    "def get_confusion_matrix(Y_true, Y_pred):\n",
    "    categorical_Y_true = list(int_label_encoder.inverse_transform([int(i) for i in onehot_label_encoder.inverse_transform(Y_true)]))\n",
    "    categorical_Y_pred = list(int_label_encoder.inverse_transform([np.argmax(i) for i in Y_pred]))\n",
    "    result = confusion_matrix(categorical_Y_true, categorical_Y_pred, labels=list(int_label_encoder.classes_))\n",
    "    return result\n",
    "\n",
    "def entrenar_gru():\n",
    "    loss = []\n",
    "    accuracy = []\n",
    "    f1_score = []\n",
    "    f1_score_weighted = []\n",
    "    confusion_matrix = []\n",
    "    k=5\n",
    "    categorical_Y = [int(i) for i in onehot_label_encoder.inverse_transform(Y)]\n",
    "    folds = StratifiedKFold(n_splits=k).split(X, categorical_Y)\n",
    "    \n",
    "    for i, (train_indexes, test_indexes) in enumerate(folds): \n",
    "        print('Fold:', str(i+1))\n",
    "        X_train = X[train_indexes]\n",
    "        Y_train = np.array(Y)[train_indexes]\n",
    "        X_test = X[test_indexes]\n",
    "        Y_test = np.array(Y)[test_indexes]\n",
    "        \n",
    "        modelo_gru = get_gru()\n",
    "        modelo_gru.fit(X_train, Y_train, batch_size=32, epochs=1, validation_data=(X_test, Y_test))\n",
    "        \n",
    "        result = modelo_gru.evaluate(X_test, Y_test)\n",
    "        loss.append(result[0])\n",
    "        print('Loss:', round(loss[-1], 3))\n",
    "        accuracy.append(result[1])\n",
    "        print('Accuracy:', round(accuracy[-1], 3))\n",
    "        #f1_score.append(get_f1_score(Y_test, modelo_gru.predict(X_test)))\n",
    "        #print('F1-Score:', f1_score[-1])\n",
    "        f1_score_weighted.append(get_f1_score_weighted(Y_test, modelo_gru.predict(X_test)))\n",
    "        print('F1-Score (weighted):', round(f1_score_weighted[-1], 3))\n",
    "        confusion_matrix.append(get_confusion_matrix(Y_test, modelo_gru.predict(X_test)))\n",
    "        print('Confusion Matrix:\\n', confusion_matrix[-1])\n",
    "        \n",
    "    return {'loss': loss, 'accuracy': accuracy, 'f1_score_weighted':f1_score_weighted, 'confusion_matrix': confusion_matrix}\n",
    "    #return {'loss': loss, 'accuracy': accuracy, 'f1_score': f1_score, 'f1_score_micro':f1_scrore_micro, 'confusion_matrix': confusion_matrix}"
   ]
  },
  {
   "cell_type": "code",
   "execution_count": 43,
   "metadata": {
    "scrolled": true
   },
   "outputs": [
    {
     "name": "stdout",
     "output_type": "stream",
     "text": [
      "Fold: 1\n",
      "Train on 600 samples, validate on 151 samples\n",
      "Epoch 1/1\n",
      "600/600 [==============================] - 16s 27ms/step - loss: 1.4581 - acc: 0.3217 - val_loss: 1.4702 - val_acc: 0.2848\n",
      "151/151 [==============================] - 2s 11ms/step\n",
      "Loss: 1.47\n",
      "Accuracy: 0.285\n"
     ]
    },
    {
     "name": "stderr",
     "output_type": "stream",
     "text": [
      "c:\\program files\\python36\\lib\\site-packages\\sklearn\\metrics\\classification.py:1143: UndefinedMetricWarning: F-score is ill-defined and being set to 0.0 in labels with no predicted samples.\n",
      "  'precision', 'predicted', average, warn_for)\n"
     ]
    },
    {
     "name": "stdout",
     "output_type": "stream",
     "text": [
      "F1-Score (weighted): 0.215\n",
      "Confusion Matrix:\n",
      " [[ 0  1  4 31]\n",
      " [ 0  8  7 26]\n",
      " [ 0  2  5 31]\n",
      " [ 0  5  1 30]]\n",
      "Fold: 2\n",
      "Train on 600 samples, validate on 151 samples\n",
      "Epoch 1/1\n",
      "600/600 [==============================] - 16s 27ms/step - loss: 1.4338 - acc: 0.3233 - val_loss: 1.3857 - val_acc: 0.2980\n",
      "151/151 [==============================] - 2s 11ms/step\n",
      "Loss: 1.386\n",
      "Accuracy: 0.298\n"
     ]
    },
    {
     "name": "stderr",
     "output_type": "stream",
     "text": [
      "c:\\program files\\python36\\lib\\site-packages\\sklearn\\metrics\\classification.py:1143: UndefinedMetricWarning: F-score is ill-defined and being set to 0.0 in labels with no predicted samples.\n",
      "  'precision', 'predicted', average, warn_for)\n"
     ]
    },
    {
     "name": "stdout",
     "output_type": "stream",
     "text": [
      "F1-Score (weighted): 0.208\n",
      "Confusion Matrix:\n",
      " [[30  6  0  0]\n",
      " [26 15  0  0]\n",
      " [36  2  0  0]\n",
      " [31  5  0  0]]\n",
      "Fold: 3\n",
      "Train on 600 samples, validate on 151 samples\n",
      "Epoch 1/1\n",
      "600/600 [==============================] - 17s 28ms/step - loss: 1.4287 - acc: 0.2683 - val_loss: 1.3160 - val_acc: 0.3245\n",
      "151/151 [==============================] - 2s 11ms/step\n",
      "Loss: 1.316\n",
      "Accuracy: 0.325\n",
      "F1-Score (weighted): 0.245\n",
      "Confusion Matrix:\n",
      " [[ 0  2 34  0]\n",
      " [ 1 16 24  0]\n",
      " [ 0  6 32  0]\n",
      " [ 1  1 33  1]]\n",
      "Fold: 4\n",
      "Train on 601 samples, validate on 150 samples\n",
      "Epoch 1/1\n",
      "601/601 [==============================] - 17s 28ms/step - loss: 1.3970 - acc: 0.3012 - val_loss: 1.5433 - val_acc: 0.3267\n",
      "150/150 [==============================] - 2s 11ms/step\n",
      "Loss: 1.543\n",
      "Accuracy: 0.327\n"
     ]
    },
    {
     "name": "stderr",
     "output_type": "stream",
     "text": [
      "c:\\program files\\python36\\lib\\site-packages\\sklearn\\metrics\\classification.py:1143: UndefinedMetricWarning: F-score is ill-defined and being set to 0.0 in labels with no predicted samples.\n",
      "  'precision', 'predicted', average, warn_for)\n"
     ]
    },
    {
     "name": "stdout",
     "output_type": "stream",
     "text": [
      "F1-Score (weighted): 0.217\n",
      "Confusion Matrix:\n",
      " [[ 0  4  0 32]\n",
      " [ 0 15  0 26]\n",
      " [ 0 13  0 24]\n",
      " [ 0  2  0 34]]\n",
      "Fold: 5\n",
      "Train on 603 samples, validate on 148 samples\n",
      "Epoch 1/1\n",
      "603/603 [==============================] - 17s 28ms/step - loss: 1.4351 - acc: 0.2919 - val_loss: 1.3085 - val_acc: 0.3986\n",
      "148/148 [==============================] - 2s 11ms/step\n",
      "Loss: 1.309\n",
      "Accuracy: 0.399\n",
      "F1-Score (weighted): 0.3\n",
      "Confusion Matrix:\n",
      " [[ 0  3  0 33]\n",
      " [ 0 24  7  9]\n",
      " [ 1  8  1 27]\n",
      " [ 0  0  1 34]]\n"
     ]
    }
   ],
   "source": [
    "# batch_size = 64\n",
    "resultados_gru_1 = entrenar_gru()"
   ]
  },
  {
   "cell_type": "code",
   "execution_count": 44,
   "metadata": {
    "scrolled": true
   },
   "outputs": [
    {
     "name": "stdout",
     "output_type": "stream",
     "text": [
      "Fold: 1\n",
      "Train on 600 samples, validate on 151 samples\n",
      "Epoch 1/1\n",
      "600/600 [==============================] - 17s 29ms/step - loss: 1.4074 - acc: 0.3217 - val_loss: 1.3994 - val_acc: 0.3245\n",
      "151/151 [==============================] - 2s 11ms/step\n",
      "Loss: 1.399\n",
      "Accuracy: 0.325\n"
     ]
    },
    {
     "name": "stderr",
     "output_type": "stream",
     "text": [
      "c:\\program files\\python36\\lib\\site-packages\\sklearn\\metrics\\classification.py:1143: UndefinedMetricWarning: F-score is ill-defined and being set to 0.0 in labels with no predicted samples.\n",
      "  'precision', 'predicted', average, warn_for)\n"
     ]
    },
    {
     "name": "stdout",
     "output_type": "stream",
     "text": [
      "F1-Score (weighted): 0.248\n",
      "Confusion Matrix:\n",
      " [[31  5  0  0]\n",
      " [26 15  0  0]\n",
      " [31  4  3  0]\n",
      " [30  6  0  0]]\n",
      "Fold: 2\n",
      "Train on 600 samples, validate on 151 samples\n",
      "Epoch 1/1\n",
      "600/600 [==============================] - 18s 29ms/step - loss: 1.4000 - acc: 0.3167 - val_loss: 1.3665 - val_acc: 0.2914\n",
      "151/151 [==============================] - 2s 11ms/step\n",
      "Loss: 1.366\n",
      "Accuracy: 0.291\n",
      "F1-Score (weighted): 0.23\n",
      "Confusion Matrix:\n",
      " [[30  1  1  4]\n",
      " [26 11  3  1]\n",
      " [36  1  1  0]\n",
      " [31  2  1  2]]\n",
      "Fold: 3\n",
      "Train on 600 samples, validate on 151 samples\n",
      "Epoch 1/1\n",
      "600/600 [==============================] - 18s 30ms/step - loss: 1.4044 - acc: 0.3167 - val_loss: 1.3072 - val_acc: 0.3245\n",
      "151/151 [==============================] - 2s 11ms/step\n",
      "Loss: 1.307\n",
      "Accuracy: 0.325\n"
     ]
    },
    {
     "name": "stderr",
     "output_type": "stream",
     "text": [
      "c:\\program files\\python36\\lib\\site-packages\\sklearn\\metrics\\classification.py:1143: UndefinedMetricWarning: F-score is ill-defined and being set to 0.0 in labels with no predicted samples.\n",
      "  'precision', 'predicted', average, warn_for)\n"
     ]
    },
    {
     "name": "stdout",
     "output_type": "stream",
     "text": [
      "F1-Score (weighted): 0.221\n",
      "Confusion Matrix:\n",
      " [[ 0  2  0 34]\n",
      " [ 0 14  0 27]\n",
      " [ 0  6  0 32]\n",
      " [ 0  1  0 35]]\n",
      "Fold: 4\n",
      "Train on 601 samples, validate on 150 samples\n",
      "Epoch 1/1\n",
      "601/601 [==============================] - 18s 30ms/step - loss: 1.3711 - acc: 0.2829 - val_loss: 1.3795 - val_acc: 0.3133\n",
      "150/150 [==============================] - 2s 11ms/step\n",
      "Loss: 1.379\n",
      "Accuracy: 0.313\n"
     ]
    },
    {
     "name": "stderr",
     "output_type": "stream",
     "text": [
      "c:\\program files\\python36\\lib\\site-packages\\sklearn\\metrics\\classification.py:1143: UndefinedMetricWarning: F-score is ill-defined and being set to 0.0 in labels with no predicted samples.\n",
      "  'precision', 'predicted', average, warn_for)\n"
     ]
    },
    {
     "name": "stdout",
     "output_type": "stream",
     "text": [
      "F1-Score (weighted): 0.218\n",
      "Confusion Matrix:\n",
      " [[32  4  0  0]\n",
      " [27 14  0  0]\n",
      " [24 13  0  0]\n",
      " [34  1  0  1]]\n",
      "Fold: 5\n",
      "Train on 603 samples, validate on 148 samples\n",
      "Epoch 1/1\n",
      "603/603 [==============================] - 19s 31ms/step - loss: 1.4750 - acc: 0.2687 - val_loss: 1.4106 - val_acc: 0.3716\n",
      "148/148 [==============================] - 2s 12ms/step\n",
      "Loss: 1.411\n",
      "Accuracy: 0.372\n",
      "F1-Score (weighted): 0.304\n",
      "Confusion Matrix:\n",
      " [[ 0  3 31  2]\n",
      " [ 2 26  8  4]\n",
      " [ 0  8 27  2]\n",
      " [ 1  0 32  2]]\n"
     ]
    }
   ],
   "source": [
    "# batch_size = 32\n",
    "resultados_gru_2 = entrenar_gru()"
   ]
  },
  {
   "cell_type": "code",
   "execution_count": 81,
   "metadata": {},
   "outputs": [
    {
     "name": "stdout",
     "output_type": "stream",
     "text": [
      "Resultado entrenamiento de la RNN con 5-Fold Validation\n",
      "\n",
      "Loss promedio = 1.405\n",
      "Accuracy promedio = 0.327\n",
      "F1-Score (weighted) promedio = 0.237\n",
      "Normalized confusion matrix\n"
     ]
    },
    {
     "name": "stderr",
     "output_type": "stream",
     "text": [
      "c:\\program files\\python36\\lib\\site-packages\\matplotlib\\figure.py:459: UserWarning: matplotlib is currently using a non-GUI backend, so cannot show the figure\n",
      "  \"matplotlib is currently using a non-GUI backend, \"\n"
     ]
    },
    {
     "data": {
      "image/png": "[encoded data removed]",
      "text/plain": [
       "<Figure size 720x504 with 2 Axes>"
      ]
     },
     "metadata": {},
     "output_type": "display_data"
    }
   ],
   "source": [
    "resumen_resultado(resultados_gru_1, cmap='gist_heat')"
   ]
  },
  {
   "cell_type": "code",
   "execution_count": 82,
   "metadata": {},
   "outputs": [
    {
     "name": "stdout",
     "output_type": "stream",
     "text": [
      "Resultado entrenamiento de la RNN con 5-Fold Validation\n",
      "\n",
      "Loss promedio = 1.373\n",
      "Accuracy promedio = 0.325\n",
      "F1-Score (weighted) promedio = 0.244\n",
      "Normalized confusion matrix\n"
     ]
    },
    {
     "name": "stderr",
     "output_type": "stream",
     "text": [
      "c:\\program files\\python36\\lib\\site-packages\\matplotlib\\figure.py:459: UserWarning: matplotlib is currently using a non-GUI backend, so cannot show the figure\n",
      "  \"matplotlib is currently using a non-GUI backend, \"\n"
     ]
    },
    {
     "data": {
      "image/png": "[encoded data removed]",
      "text/plain": [
       "<Figure size 720x504 with 2 Axes>"
      ]
     },
     "metadata": {},
     "output_type": "display_data"
    }
   ],
   "source": [
    "resumen_resultado(resultados_gru_2, cmap='gist_heat')"
   ]
  },
  {
   "cell_type": "markdown",
   "metadata": {},
   "source": [
    "De igual manera, los dos casos de GRU mostrados corresponden a los mejores encontrados. El primer resultado corresponde a una GRU entrenada usando ```batch_size=64``` y alcanzó un accuracy de $32.7\\%$. El rendimiento es prácticamente igual que al entrenar con ```batch_size=32```, lo que dio $32.5\\%$ de accuracy.\n",
    "\n",
    "Las GRU también muestran el sesgo de las LSTMs en la predicción, pero se observa que en general la probabilidad está más distribuida entre las posibles predicciones. En la primera GRU, el sesgo está por clasificar como ```unverified```, mientras que en la segunda, en clasificar como ```false```."
   ]
  },
  {
   "cell_type": "code",
   "execution_count": null,
   "metadata": {},
   "outputs": [],
   "source": []
  }
 ],
 "metadata": {
  "kernelspec": {
   "display_name": "Python 3",
   "language": "python",
   "name": "python3"
  },
  "language_info": {
   "codemirror_mode": {
    "name": "ipython",
    "version": 3
   },
   "file_extension": ".py",
   "mimetype": "text/x-python",
   "name": "python",
   "nbconvert_exporter": "python",
   "pygments_lexer": "ipython3",
   "version": "3.6.5"
  }
 },
 "nbformat": 4,
 "nbformat_minor": 2
}
